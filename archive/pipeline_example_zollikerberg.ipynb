{
 "cells": [
  {
   "cell_type": "code",
   "execution_count": null,
   "outputs": [],
   "source": [
    "import geopandas as gpd\n",
    "import copy\n",
    "\n",
    "import leuvenmapmatching.matcher.base\n",
    "import shapely as shp\n",
    "import networkx as nx\n",
    "import snman.osmnx_customized as oxc\n",
    "import snman\n",
    "import snman.enrichment\n",
    "\n",
    "# Constants\n",
    "INTERSECTION_TOLERANCE = 10\n",
    "# Set these paths according to your own setup\n",
    "data_directory = 'C:/Users/lballo/polybox/Research/SNMan/SNMan Shared/data/'\n",
    "inputs_path = data_directory + 'inputs/'\n",
    "export_path = data_directory + 'outputs/'\n",
    "oxc.settings.useful_tags_way = snman.constants.OSM_TAGS"
   ],
   "metadata": {
    "collapsed": false
   }
  },
  {
   "cell_type": "code",
   "execution_count": null,
   "outputs": [],
   "source": [
    "# =====================================================================================\n",
    "# LOAD DATA\n",
    "# =====================================================================================\n",
    "\n",
    "print('Load perimeters')\n",
    "perimeters = snman.load_perimeters(inputs_path + 'perimeters/perimeters.shp')\n",
    "\n",
    "print('Get data from OSM server')\n",
    "# At this step, simplification means only removing degree=2 edges\n",
    "G = oxc.graph_from_polygon(\n",
    "    perimeters.loc['zollikerberg']['geometry'],\n",
    "    custom_filter=snman.constants.OSM_FILTER,\n",
    "    simplify=True,\n",
    "    simplify_strict=False,\n",
    "    retain_all=True,\n",
    "    one_edge_per_direction=False\n",
    ")\n",
    "\n",
    "print('Prepare graph')\n",
    "snman.prepare_graph(G)\n",
    "\n",
    "print('Convert CRS of street graph to 2056')\n",
    "snman.convert_crs_of_street_graph(G, snman.constants.CRS)\n",
    "nodes = copy.copy(G.nodes)\n",
    "\n",
    "print('Load regions')\n",
    "regions = snman.load_regions(inputs_path + 'regions/regions.shp', default_tolerance=10, street_graph=G)\n",
    "\n",
    "print('Load manual intersections')\n",
    "given_intersections_gdf = snman.load_intersections(\n",
    "    inputs_path + 'intersection_polygons/intersection_polygons.shp'\n",
    ")"
   ],
   "metadata": {
    "collapsed": false
   }
  },
  {
   "cell_type": "code",
   "execution_count": null,
   "outputs": [],
   "source": [
    "# =====================================================================================\n",
    "# CONSOLIDATE INTERSECTIONS\n",
    "# =====================================================================================\n",
    "\n",
    "print('Detect intersections')\n",
    "intersections_gdf = snman.simplification.merge_nodes_geometric(\n",
    "    G, INTERSECTION_TOLERANCE,\n",
    "    given_intersections_gdf=given_intersections_gdf,\n",
    "    regions=regions\n",
    ")\n",
    "\n",
    "print('Save intersection geometries into a file')\n",
    "snman.export_gdf(intersections_gdf, export_path + 'intersections_polygons.gpkg', columns=['geometry'])\n",
    "\n",
    "if 1:\n",
    "    # must be run a few times for including buffers of newly added nodes\n",
    "    for i in range(3):\n",
    "        print('Split through edges in intersections')\n",
    "        intersections = snman.split_through_edges_in_intersections(G, intersections_gdf)\n",
    "\n",
    "        print('Add layers to nodes')\n",
    "        snman.graph_tools._add_layers_to_nodes(G)\n",
    "\n",
    "        print('Update precalculated attributes')\n",
    "        snman.update_precalculated_attributes(G)\n",
    "\n",
    "        print('Detect intersections')\n",
    "        intersections_gdf = snman.simplification.merge_nodes_geometric(\n",
    "            G, INTERSECTION_TOLERANCE,\n",
    "            given_intersections_gdf=given_intersections_gdf,\n",
    "            regions=regions\n",
    "        )\n",
    "\n",
    "        print('Add connections between components in intersections')\n",
    "        snman.connect_components_in_intersections(G, intersections_gdf, separate_layers=True)\n",
    "\n",
    "    print('Save intersection geometries into a file')\n",
    "    snman.export_gdf(intersections_gdf, export_path + 'intersections_polygons.gpkg', columns=['geometry'])\n",
    "\n",
    "if 1:\n",
    "    print('Save raw street graph')\n",
    "    snman.export_streetgraph(G, export_path + 'raw_edges.gpkg', export_path + 'raw_nodes.gpkg')\n",
    "\n",
    "if 1:\n",
    "    print('Consolidate intersections')\n",
    "    G = snman.simplification.consolidate_intersections(\n",
    "        G, intersections_gdf,\n",
    "        reconnect_edges=True\n",
    "    )"
   ],
   "metadata": {
    "collapsed": false
   }
  },
  {
   "cell_type": "code",
   "execution_count": null,
   "outputs": [],
   "source": [
    "# =====================================================================================\n",
    "# ENRICH AND ADJUST GRAPH\n",
    "# =====================================================================================\n",
    "\n",
    "if 1:\n",
    "    print('Generate lanes')\n",
    "    snman.generate_lanes(G)\n",
    "\n",
    "if 1:\n",
    "    print('Normalize edge directions, enforce direction from lower to higher node id')\n",
    "    snman.normalize_edge_directions(G)\n",
    "\n",
    "if 1:\n",
    "    print('Convert into an undirected graph')\n",
    "    G = oxc.utils_graph.get_undirected(G)\n",
    "\n",
    "if 1:\n",
    "    print('Identify hierarchy')\n",
    "    snman.add_hierarchy(G)"
   ],
   "metadata": {
    "collapsed": false
   }
  },
  {
   "cell_type": "code",
   "execution_count": null,
   "outputs": [],
   "source": [
    "# =====================================================================================\n",
    "# CONSOLIDATE PARALLEL AND CONSECUTIVE EDGES\n",
    "# =====================================================================================\n",
    "\n",
    "if 1:\n",
    "    print('Merge parallel and consecutive edges, repeat a few times')\n",
    "    for i in range(5):\n",
    "        snman.merge_parallel_edges(G)\n",
    "        snman.merge_consecutive_edges(G)\n",
    "        pass\n",
    "\n",
    "if 1:\n",
    "    print('Simplify link geometries')\n",
    "    for id, edge in G.edges.items():\n",
    "        edge['geometry'] = edge['geometry'].simplify(25, preserve_topology=False)\n",
    "\n",
    "if 1:\n",
    "    print('Add lane stats')\n",
    "    snman.generate_lane_stats(G)"
   ],
   "metadata": {
    "collapsed": false
   }
  },
  {
   "cell_type": "code",
   "execution_count": null,
   "outputs": [],
   "source": [
    "# =====================================================================================\n",
    "# ENRICH\n",
    "# =====================================================================================\n",
    "\n",
    "if 0:\n",
    "    #TODO: Improve performance\n",
    "    print('Add public transport')\n",
    "    pt_network = snman.import_shp_to_gdf(\"C:/DATA/CLOUD STORAGE/polybox/Research/SNMan/SNMan Shared/stadt_zuerich_open_data/Linien_des_offentlichen_Verkehrs_-OGD/ZVV_LINIEN_GEN_L.shp\")\n",
    "    snman.match_pt(G, pt_network)\n",
    "\n",
    "if 1:\n",
    "    print('Update OSM tags')\n",
    "    snman.update_osm_tags(G)\n",
    "\n",
    "if 1:\n",
    "    print('Add elevation')\n",
    "    spn = oxc.stats.count_streets_per_node(G, nodes=G.nodes)\n",
    "    nx.set_node_attributes(G, values=spn, name=\"street_count\")\n",
    "    G = oxc.elevation.add_node_elevations_raster(G, inputs_path + 'ch_dhm_25/2056/ch_dhm_2056.tif', cpus=1)\n",
    "    G = oxc.elevation.add_edge_grades(G, add_absolute=False)\n",
    "\n",
    "if 1:\n",
    "    print('Add traffic counts')\n",
    "    source = gpd.read_file(inputs_path + 'traffic_volumes/npvm_2017_filtered.gpkg').to_crs(2056)\n",
    "    source['fid'] = source.index\n",
    "    # Remove links with zero traffic (otherwise they will distort the averages on the matched links)\n",
    "    source = source[source['DTV_ALLE'] > 0]\n",
    "    snman.enrichment.match_linestrings(G, source, [\n",
    "        {'source_column': 'DTV_ALLE',   'target_column': 'adt_avg',         'agg': 'avg' },\n",
    "        {'source_column': 'DTV_ALLE',   'target_column': 'adt_max',         'agg': 'max' },\n",
    "        {'source_column': 'FROMNODENO', 'target_column': 'npvm_fromnodeno', 'agg': 'list'},\n",
    "        {'source_column': 'TONODENO',   'target_column': 'npvm_tonodeno',   'agg': 'list'}\n",
    "        ],\n",
    "        #show_test_plot = 'FROMNODENO == 455924 & TONODENO == 456017'\n",
    "    )"
   ],
   "metadata": {
    "collapsed": false
   }
  },
  {
   "cell_type": "code",
   "execution_count": null,
   "outputs": [],
   "source": [
    "# =====================================================================================\n",
    "# GIVEN LANES\n",
    "# =====================================================================================\n",
    "\n",
    "if 1:\n",
    "    print('Set given lanes')\n",
    "    snman.set_given_lanes(G, bidirectional_for_dead_ends=False)\n",
    "\n",
    "if 1:\n",
    "    print('Create directed graph of given lanes')\n",
    "    G_minimal_graph_input = snman.create_given_lanes_graph(G, hierarchies_to_remove={snman.hierarchy.HIGHWAY})"
   ],
   "metadata": {
    "collapsed": false
   }
  },
  {
   "cell_type": "code",
   "execution_count": null,
   "outputs": [],
   "source": [
    "# =====================================================================================\n",
    "# VARIA\n",
    "# =====================================================================================\n",
    "\n",
    "if 1:\n",
    "    print('Keep only the largest connected component')\n",
    "    snman.graph_tools.add_connected_component_ids(G)\n",
    "    G = snman.graph_tools.keep_only_the_largest_connected_component(G)"
   ],
   "metadata": {
    "collapsed": false
   }
  },
  {
   "cell_type": "code",
   "execution_count": null,
   "outputs": [],
   "source": [
    "# =====================================================================================\n",
    "# EXPORT\n",
    "# =====================================================================================\n",
    "\n",
    "if 1:\n",
    "    print('Export network with given lanes')\n",
    "    snman.export_streetgraph_with_lanes(G, 'given_lanes', export_path + 'edges_given_lanes.gpkg')\n",
    "\n",
    "if 1:\n",
    "    print('Export given lanes')\n",
    "    snman.export_streetgraph(G_minimal_graph_input, export_path + 'given_lanes.gpkg', export_path + 'given_lanes_nodes.gpkg')"
   ],
   "metadata": {
    "collapsed": false
   }
  },
  {
   "cell_type": "code",
   "execution_count": null,
   "outputs": [],
   "source": [
    "# =====================================================================================\n",
    "# REBUILD AND EXPORT\n",
    "# =====================================================================================\n",
    "\n",
    "if 1:\n",
    "    print('Link elimination')\n",
    "    G_minimal_graph_output = snman.link_elimination(G_minimal_graph_input)\n",
    "\n",
    "    print('Export minimal graph - output')\n",
    "    snman.export_streetgraph(G_minimal_graph_output, export_path + 'minimal_graph_out_edges.gpkg', export_path + 'minimal_graph_out_nodes.gpkg')\n",
    "\n",
    "    print('Rebuild lanes according to the OWTOP graph')\n",
    "    snman.owtop.rebuild_lanes_from_owtop_graph(G, G_minimal_graph_output, hierarchies_to_protect={snman.hierarchy.HIGHWAY})\n",
    "\n",
    "    print('Export rebuilt network with lanes')\n",
    "    snman.export_streetgraph_with_lanes(G, 'ln_desc_after', export_path + 'edges_lanes_after.shp')"
   ],
   "metadata": {
    "collapsed": false
   }
  },
  {
   "cell_type": "code",
   "execution_count": null,
   "outputs": [],
   "source": [
    "# =====================================================================================\n",
    "# EXPORT\n",
    "# =====================================================================================\n",
    "\n",
    "if 1:\n",
    "    print('Export network without lanes')\n",
    "    snman.export_streetgraph(G, export_path + 'edges.gpkg', export_path + 'nodes.gpkg',\n",
    "        edge_columns=snman.constants.EXPORT_EDGE_COLUMNS\n",
    "    )\n",
    "\n",
    "if 1:\n",
    "    print('Export network without lanes (with all attributes)')\n",
    "    snman.export_streetgraph(G, export_path + 'edges_all_attributes.gpkg', export_path + 'nodes_all_attributes.gpkg')\n",
    "\n",
    "if 1:\n",
    "    print('Export network with lanes')\n",
    "    #TODO: Fix problems with saving lanes as a GeoPackage\n",
    "    snman.export_streetgraph_with_lanes(G, 'ln_desc', export_path + 'edges_lanes.shp')\n",
    "\n",
    "#TODO-FAILURE: Remove inplace CRS conversion of G\n",
    "if 0:\n",
    "    print('Export OSM XML')\n",
    "    snman.export_osm_xml(G, export_path + 'new_network.osm',{\n",
    "        'highway', 'lanes', 'lanes:forward', 'lanes:backward', 'lanes:both_ways',\n",
    "        'cycleway', 'cycleway:lane', 'cycleway:left', 'cycleway:left:lane', 'cycleway:right', 'cycleway:right:lane',\n",
    "        'bus:lanes:backward', 'bus:lanes:forward', 'vehicle:lanes:backward', 'vehicle:lanes:forward',\n",
    "        'maxspeed', 'oneway',\n",
    "        '_connected_component'\n",
    "    }, uv_tags=True, tag_all_nodes=True)"
   ],
   "metadata": {
    "collapsed": false
   }
  }
 ],
 "metadata": {
  "kernelspec": {
   "display_name": "Python 3",
   "language": "python",
   "name": "python3"
  },
  "language_info": {
   "codemirror_mode": {
    "name": "ipython",
    "version": 2
   },
   "file_extension": ".py",
   "mimetype": "text/x-python",
   "name": "python",
   "nbconvert_exporter": "python",
   "pygments_lexer": "ipython2",
   "version": "2.7.6"
  }
 },
 "nbformat": 4,
 "nbformat_minor": 0
}
