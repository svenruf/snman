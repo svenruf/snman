{
 "cells": [
  {
   "cell_type": "code",
   "execution_count": 1,
   "metadata": {
    "collapsed": true
   },
   "outputs": [
    {
     "name": "stderr",
     "output_type": "stream",
     "text": [
      "C:\\Users\\lballo\\AppData\\Roaming\\Python\\Python39\\site-packages\\osmnx\\utils.py:192: UserWarning: The `utils.config` function is deprecated and will be removed in a future release. Instead, use the `settings` module directly to configure a global setting's value. For example, `ox.settings.log_console=True`.\n",
      "  warnings.warn(\n"
     ]
    }
   ],
   "source": [
    "import networkx as nx\n",
    "import matplotlib.pyplot as plt\n",
    "import snman\n",
    "\n",
    "keep_all_streets = True\n",
    "\n",
    "G = nx.DiGraph()\n",
    "G.add_nodes_from([0,1,2,3,4,5])\n",
    "\n",
    "pos = {\n",
    "    0: (0,1),\n",
    "    1: (1,1),\n",
    "    2: (2,2),\n",
    "    3: (2,0),\n",
    "    4: (0,2),\n",
    "    5: (1,2)\n",
    "}\n",
    "\n",
    "# Add edges with arbitrary directions\n",
    "G.add_edge(0,1)\n",
    "G.add_edge(1,2)\n",
    "G.add_edge(2,3)\n",
    "G.add_edge(1,3)\n",
    "\n",
    "G.add_edge(4,5)\n",
    "G.add_edge(5,4)\n",
    "\n",
    "wccs = nx.strongly_connected_components(G)\n",
    "for wcc, nodes in enumerate(wccs):\n",
    "    subgraph = nx.subgraph(G, nodes)\n",
    "    nx.set_edge_attributes(subgraph, wcc, 'wcc')\n",
    "\n",
    "nx.set_node_attributes(G, wcc, 'wcc')\n",
    "\n",
    "edge_labels = nx.get_edge_attributes(G, \"wcc\")\n"
   ]
  },
  {
   "cell_type": "code",
   "execution_count": 5,
   "outputs": [
    {
     "data": {
      "text/plain": "<Figure size 640x480 with 1 Axes>",
      "image/png": "[encoded data removed]"
     },
     "metadata": {},
     "output_type": "display_data"
    }
   ],
   "source": [
    "# Plot\n",
    "#nx.draw_networkx(G, pos=pos)\n",
    "#nx.draw_networkx_labels(G, pos, font_size=7, labels=wcc_ids, verticalalignment='top')\n",
    "#nx.draw_networkx_edge_labels(G, pos, edge_labels=edge_labels)\n",
    "#nx.draw_networkx_edge_labels(G, pos, edge_labels=edge_labels)\n",
    "\n",
    "nx.draw_networkx(G)\n",
    "plt.show()\n"
   ],
   "metadata": {
    "collapsed": false
   }
  }
 ],
 "metadata": {
  "kernelspec": {
   "display_name": "Python 3",
   "language": "python",
   "name": "python3"
  },
  "language_info": {
   "codemirror_mode": {
    "name": "ipython",
    "version": 2
   },
   "file_extension": ".py",
   "mimetype": "text/x-python",
   "name": "python",
   "nbconvert_exporter": "python",
   "pygments_lexer": "ipython2",
   "version": "2.7.6"
  }
 },
 "nbformat": 4,
 "nbformat_minor": 0
}
