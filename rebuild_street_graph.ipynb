{
 "cells": [
  {
   "cell_type": "markdown",
   "metadata": {},
   "source": [
    "Rebuild street graph\n",
    "====================\n",
    "Loads a street graph and reallocates roads space, e.g., into a network of one-way streets"
   ]
  },
  {
   "cell_type": "code",
   "execution_count": 30,
   "metadata": {
    "collapsed": false,
    "jupyter": {
     "outputs_hidden": false
    }
   },
   "outputs": [],
   "source": [
    "import snman\n",
    "\n",
    "PERIMETER = 'aarau_extended'\n",
    "# Set SAVE_TO_DEBUG = True for saving the results into the _debug folder\n",
    "# which is automatically used in the QGIS files\n",
    "SAVE_TO_DEBUG = True\n",
    "\n",
    "# Set these paths according to your own setup\n",
    "data_directory = '/Users/svenruf/OneDrive - ETH Zurich/masterarbeit/Code/data_directory_aarau/'\n",
    "inputs_path = data_directory + 'inputs/'\n",
    "process_path = data_directory + 'process/' + PERIMETER + '/'\n",
    "\n",
    "if SAVE_TO_DEBUG:\n",
    "    export_path = data_directory + 'outputs/' + '_debug' + '/'\n",
    "else:\n",
    "    export_path = data_directory + 'outputs/' + PERIMETER + '/'"
   ],
   "metadata": {
    "collapsed": false
   }
  },
  {
   "cell_type": "code",
   "execution_count": null,
   "outputs": [],
   "source": [
    "# =====================================================================================\n",
    "# LOAD DATA\n",
    "# =====================================================================================\n",
    "\n",
    "print('Load street graph')\n",
    "G = snman.io.load_street_graph(process_path + 'edges_all_attributes.gpkg', process_path + 'nodes_all_attributes.gpkg')\n",
    "\n",
    "print('Load rebuilding regions')\n",
    "# Polygons that define which streets will be reorganized\n",
    "rebuilding_regions_gdf = snman.io.load_rebuilding_regions(\n",
    "    inputs_path + 'rebuilding_regions/rebuilding_regions.gpkg'\n",
    ")"
   ],
   "metadata": {
    "collapsed": false
   }
  },
  {
   "cell_type": "code",
   "execution_count": null,
   "outputs": [],
   "source": [
    "# =====================================================================================\n",
    "# GIVEN LANES\n",
    "# =====================================================================================\n",
    "\n",
    "if 1:\n",
    "    print('Set given lanes')\n",
    "    snman.set_given_lanes(G, bidirectional_for_dead_ends=False)\n",
    "\n",
    "if 1:\n",
    "    print('Create directed graph of given lanes')\n",
    "    G_minimal_graph_input = snman.create_given_lanes_graph(G, hierarchies_to_remove={snman.hierarchy.HIGHWAY})"
   ],
   "metadata": {
    "collapsed": false
   }
  },
  {
   "cell_type": "code",
   "execution_count": null,
   "outputs": [],
   "source": [
    "# =====================================================================================\n",
    "# REBUILD\n",
    "# =====================================================================================\n",
    "\n",
    "if 1:\n",
    "    print('Rebuild regions')\n",
    "    snman.owtop.rebuild_regions(G, rebuilding_regions_gdf, verbose=True)\n",
    "    snman.generate_lane_stats(G, lanes_attribute=snman.constants.KEY_LANES_DESCRIPTION_AFTER)"
   ],
   "metadata": {
    "collapsed": false
   }
  },
  {
   "cell_type": "code",
   "execution_count": null,
   "outputs": [],
   "source": [
    "# =====================================================================================\n",
    "# EXPORT\n",
    "# =====================================================================================\n",
    "\n",
    "if 1:\n",
    "    print('Export network without lanes')\n",
    "    snman.export_street_graph(G, export_path + 'edges_all_attributes.gpkg', export_path + 'nodes_all_attributes.gpkg')\n",
    "    snman.export_street_graph(G, export_path + 'edges.gpkg', export_path + 'nodes.gpkg',\n",
    "        edge_columns=snman.constants.EXPORT_EDGE_COLUMNS\n",
    "    )\n",
    "\n",
    "if 0:\n",
    "    print('Export OSM XML')\n",
    "    snman.export_osm_xml(G, export_path + 'new_network.osm',{\n",
    "        'highway', 'lanes', 'lanes:forward', 'lanes:backward', 'lanes:both_ways',\n",
    "        'cycleway', 'cycleway:lane', 'cycleway:left', 'cycleway:left:lane', 'cycleway:right', 'cycleway:right:lane',\n",
    "        'bus:lanes:backward', 'bus:lanes:forward', 'vehicle:lanes:backward', 'vehicle:lanes:forward',\n",
    "        'maxspeed', 'oneway',\n",
    "        '_connected_component'\n",
    "    }, uv_tags=True, tag_all_nodes=True)\n",
    "\n",
    "if 1:\n",
    "    print('Export network with lanes')\n",
    "    snman.export_street_graph_with_lanes(G, 'ln_desc', export_path + 'edges_lanes.shp', scaling=2)\n",
    "    snman.export_street_graph_with_lanes(G, 'ln_desc_after', export_path + 'edges_lanes_after.shp', scaling=2)"
   ],
   "metadata": {
    "collapsed": false
   }
  }
 ],
 "metadata": {
  "kernelspec": {
   "display_name": "Python 3",
   "language": "python",
   "name": "python3"
  },
  "language_info": {
   "codemirror_mode": {
    "name": "ipython",
    "version": 2
   },
   "file_extension": ".py",
   "mimetype": "text/x-python",
   "name": "python",
   "nbconvert_exporter": "python",
   "pygments_lexer": "ipython2",
   "version": "2.7.6"
  }
 },
 "nbformat": 4,
 "nbformat_minor": 0
}
